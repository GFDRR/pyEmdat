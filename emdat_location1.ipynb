{
 "cells": [
  {
   "cell_type": "code",
   "execution_count": 1,
   "metadata": {},
   "outputs": [
    {
     "name": "stdout",
     "output_type": "stream",
     "text": [
      "Populating the interactive namespace from numpy and matplotlib\n"
     ]
    },
    {
     "name": "stderr",
     "output_type": "stream",
     "text": [
      "/home/nicholasjones/miniconda3/envs/GPD3/lib/python3.7/site-packages/IPython/core/magics/pylab.py:160: UserWarning: pylab import has clobbered these variables: ['plt']\n",
      "`%matplotlib` prevents importing * from pylab and numpy\n",
      "  \"\\n`%matplotlib` prevents importing * from pylab and numpy\"\n"
     ]
    }
   ],
   "source": [
    "import pandas as pd\n",
    "import geopandas as gpd\n",
    "import os\n",
    "import pylab as plt\n",
    "from importlib import reload\n",
    "import emdat_df\n",
    "reload(emdat_df)\n",
    "from emdat_df import emdat\n",
    "import utils\n",
    "reload(utils)\n",
    "from utils import get_GNI, get_pop\n",
    "import fuzzywuzzy as fw\n",
    "import geocoder\n",
    "\n",
    "import datetime\n",
    "import wbdata\n",
    "%pylab inline\n",
    "\n",
    "data = os.getenv('data')"
   ]
  },
  {
   "cell_type": "markdown",
   "metadata": {},
   "source": [
    "# Parsing the location field of EMDAT"
   ]
  },
  {
   "cell_type": "markdown",
   "metadata": {},
   "source": [
    "#### 1. Load downloaded Excel file as a PyEmdat object"
   ]
  },
  {
   "cell_type": "code",
   "execution_count": 2,
   "metadata": {},
   "outputs": [
    {
     "name": "stderr",
     "output_type": "stream",
     "text": [
      "/home/nicholasjones/Code/pyEmdat/emdat_df.py:39: FutureWarning: Your version of xlrd is 1.2.0. In xlrd >= 2.0, only the xls format is supported. As a result, the openpyxl engine will be used if it is installed and the engine argument is not specified. Install openpyxl instead.\n",
      "  self.data = pd.read_excel(filename, header = 6, parse_dates=['Year']).rename(columns = cols_dict)\n"
     ]
    }
   ],
   "source": [
    "ED = emdat((data + '/emdat_1960.xlsx'))"
   ]
  },
  {
   "cell_type": "markdown",
   "metadata": {},
   "source": [
    "#### 2. Summary for Pakistan by hazard"
   ]
  },
  {
   "cell_type": "code",
   "execution_count": 3,
   "metadata": {},
   "outputs": [
    {
     "data": {
      "image/png": "[encoded data removed]",
      "text/plain": [
       "<Figure size 432x288 with 1 Axes>"
      ]
     },
     "metadata": {
      "needs_background": "light"
     },
     "output_type": "display_data"
    }
   ],
   "source": [
    "df = ED.disaster_stats_timeseries(1960, 2020, 'Pakistan','all','deaths')\n",
    "cols_over_1000 = [column for column in df.columns if df[column].sum() > 1000]\n",
    "df[cols_over_1000].plot(title = 'Pakistan: deaths by hazard type since 1980');"
   ]
  },
  {
   "cell_type": "markdown",
   "metadata": {},
   "source": [
    "#### 4.Explore location field"
   ]
  },
  {
   "cell_type": "code",
   "execution_count": 4,
   "metadata": {},
   "outputs": [],
   "source": [
    "df = ED.data\n",
    "df = df[df.country == 'Pakistan'][['dis_no', 'country', 'year', 'disaster_group', 'disaster_subgroup',\n",
    "       'disaster_type', 'disaster_subtype', 'Disaster Subsubtype',\n",
    "       'event_name', \n",
    "       'location', 'lat', 'lon', 'deaths', 'injured', 'affected', 'homeless',\n",
    "       'total_affected', 'reconstruction_costs', 'insured_damages',\n",
    "       'total_damages', 'CPI']].reset_index(drop=True)"
   ]
  },
  {
   "cell_type": "code",
   "execution_count": 5,
   "metadata": {},
   "outputs": [
    {
     "data": {
      "text/html": [
       "<div>\n",
       "<style scoped>\n",
       "    .dataframe tbody tr th:only-of-type {\n",
       "        vertical-align: middle;\n",
       "    }\n",
       "\n",
       "    .dataframe tbody tr th {\n",
       "        vertical-align: top;\n",
       "    }\n",
       "\n",
       "    .dataframe thead th {\n",
       "        text-align: right;\n",
       "    }\n",
       "</style>\n",
       "<table border=\"1\" class=\"dataframe\">\n",
       "  <thead>\n",
       "    <tr style=\"text-align: right;\">\n",
       "      <th></th>\n",
       "      <th>dis_no</th>\n",
       "      <th>country</th>\n",
       "      <th>year</th>\n",
       "      <th>disaster_group</th>\n",
       "      <th>disaster_subgroup</th>\n",
       "      <th>disaster_type</th>\n",
       "      <th>disaster_subtype</th>\n",
       "      <th>Disaster Subsubtype</th>\n",
       "      <th>event_name</th>\n",
       "      <th>location</th>\n",
       "      <th>...</th>\n",
       "      <th>lon</th>\n",
       "      <th>deaths</th>\n",
       "      <th>injured</th>\n",
       "      <th>affected</th>\n",
       "      <th>homeless</th>\n",
       "      <th>total_affected</th>\n",
       "      <th>reconstruction_costs</th>\n",
       "      <th>insured_damages</th>\n",
       "      <th>total_damages</th>\n",
       "      <th>CPI</th>\n",
       "    </tr>\n",
       "  </thead>\n",
       "  <tbody>\n",
       "    <tr>\n",
       "      <th>0</th>\n",
       "      <td>1964-0034-PAK</td>\n",
       "      <td>Pakistan</td>\n",
       "      <td>1964-01-01</td>\n",
       "      <td>Natural</td>\n",
       "      <td>Meteorological</td>\n",
       "      <td>Storm</td>\n",
       "      <td>Tropical cyclone</td>\n",
       "      <td>NaN</td>\n",
       "      <td>NaN</td>\n",
       "      <td>Coast, Low Indus valley</td>\n",
       "      <td>...</td>\n",
       "      <td>NaN</td>\n",
       "      <td>450.0</td>\n",
       "      <td>NaN</td>\n",
       "      <td>400000.0</td>\n",
       "      <td>NaN</td>\n",
       "      <td>400000.0</td>\n",
       "      <td>NaN</td>\n",
       "      <td>NaN</td>\n",
       "      <td>4100.0</td>\n",
       "      <td>12.132117</td>\n",
       "    </tr>\n",
       "    <tr>\n",
       "      <th>1</th>\n",
       "      <td>1964-0056-PAK</td>\n",
       "      <td>Pakistan</td>\n",
       "      <td>1964-01-01</td>\n",
       "      <td>Natural</td>\n",
       "      <td>Hydrological</td>\n",
       "      <td>Flood</td>\n",
       "      <td>NaN</td>\n",
       "      <td>NaN</td>\n",
       "      <td>NaN</td>\n",
       "      <td>Lahore district</td>\n",
       "      <td>...</td>\n",
       "      <td>NaN</td>\n",
       "      <td>NaN</td>\n",
       "      <td>NaN</td>\n",
       "      <td>74427.0</td>\n",
       "      <td>NaN</td>\n",
       "      <td>74427.0</td>\n",
       "      <td>NaN</td>\n",
       "      <td>NaN</td>\n",
       "      <td>500.0</td>\n",
       "      <td>12.132117</td>\n",
       "    </tr>\n",
       "  </tbody>\n",
       "</table>\n",
       "<p>2 rows × 21 columns</p>\n",
       "</div>"
      ],
      "text/plain": [
       "          dis_no   country       year disaster_group disaster_subgroup  \\\n",
       "0  1964-0034-PAK  Pakistan 1964-01-01        Natural    Meteorological   \n",
       "1  1964-0056-PAK  Pakistan 1964-01-01        Natural      Hydrological   \n",
       "\n",
       "  disaster_type  disaster_subtype Disaster Subsubtype event_name  \\\n",
       "0         Storm  Tropical cyclone                 NaN        NaN   \n",
       "1         Flood               NaN                 NaN        NaN   \n",
       "\n",
       "                  location  ...  lon deaths  injured  affected  homeless  \\\n",
       "0  Coast, Low Indus valley  ...  NaN  450.0      NaN  400000.0       NaN   \n",
       "1          Lahore district  ...  NaN    NaN      NaN   74427.0       NaN   \n",
       "\n",
       "   total_affected  reconstruction_costs  insured_damages  total_damages  \\\n",
       "0        400000.0                   NaN              NaN         4100.0   \n",
       "1         74427.0                   NaN              NaN          500.0   \n",
       "\n",
       "         CPI  \n",
       "0  12.132117  \n",
       "1  12.132117  \n",
       "\n",
       "[2 rows x 21 columns]"
      ]
     },
     "execution_count": 5,
     "metadata": {},
     "output_type": "execute_result"
    }
   ],
   "source": [
    "df.head(2)"
   ]
  },
  {
   "cell_type": "code",
   "execution_count": 6,
   "metadata": {},
   "outputs": [
    {
     "data": {
      "text/html": [
       "<div>\n",
       "<style scoped>\n",
       "    .dataframe tbody tr th:only-of-type {\n",
       "        vertical-align: middle;\n",
       "    }\n",
       "\n",
       "    .dataframe tbody tr th {\n",
       "        vertical-align: top;\n",
       "    }\n",
       "\n",
       "    .dataframe thead th {\n",
       "        text-align: right;\n",
       "    }\n",
       "</style>\n",
       "<table border=\"1\" class=\"dataframe\">\n",
       "  <thead>\n",
       "    <tr style=\"text-align: right;\">\n",
       "      <th></th>\n",
       "      <th>location</th>\n",
       "      <th>disaster_type</th>\n",
       "      <th>event_name</th>\n",
       "      <th>total_damages</th>\n",
       "      <th>dis_no</th>\n",
       "    </tr>\n",
       "  </thead>\n",
       "  <tbody>\n",
       "    <tr>\n",
       "      <th>0</th>\n",
       "      <td>Coast, Low Indus valley</td>\n",
       "      <td>Storm</td>\n",
       "      <td>NaN</td>\n",
       "      <td>4100.0</td>\n",
       "      <td>1964-0034-PAK</td>\n",
       "    </tr>\n",
       "    <tr>\n",
       "      <th>1</th>\n",
       "      <td>Lahore district</td>\n",
       "      <td>Flood</td>\n",
       "      <td>NaN</td>\n",
       "      <td>500.0</td>\n",
       "      <td>1964-0056-PAK</td>\n",
       "    </tr>\n",
       "    <tr>\n",
       "      <th>2</th>\n",
       "      <td>Karachi</td>\n",
       "      <td>Storm</td>\n",
       "      <td>NaN</td>\n",
       "      <td>NaN</td>\n",
       "      <td>1965-0069-PAK</td>\n",
       "    </tr>\n",
       "    <tr>\n",
       "      <th>3</th>\n",
       "      <td>Karachi area</td>\n",
       "      <td>Flood</td>\n",
       "      <td>NaN</td>\n",
       "      <td>2800.0</td>\n",
       "      <td>1967-0049-PAK</td>\n",
       "    </tr>\n",
       "    <tr>\n",
       "      <th>4</th>\n",
       "      <td>Multan District</td>\n",
       "      <td>Epidemic</td>\n",
       "      <td>Cholera</td>\n",
       "      <td>NaN</td>\n",
       "      <td>1968-0037-PAK</td>\n",
       "    </tr>\n",
       "    <tr>\n",
       "      <th>...</th>\n",
       "      <td>...</td>\n",
       "      <td>...</td>\n",
       "      <td>...</td>\n",
       "      <td>...</td>\n",
       "      <td>...</td>\n",
       "    </tr>\n",
       "    <tr>\n",
       "      <th>443</th>\n",
       "      <td>Near Dera Ismail Khan</td>\n",
       "      <td>Transport accident</td>\n",
       "      <td>NaN</td>\n",
       "      <td>NaN</td>\n",
       "      <td>2020-0516-PAK</td>\n",
       "    </tr>\n",
       "    <tr>\n",
       "      <th>444</th>\n",
       "      <td>Sukkur district (Sindh province)</td>\n",
       "      <td>Transport accident</td>\n",
       "      <td>NaN</td>\n",
       "      <td>NaN</td>\n",
       "      <td>2020-0081-PAK</td>\n",
       "    </tr>\n",
       "    <tr>\n",
       "      <th>445</th>\n",
       "      <td>Mohmand (Khyber-Pakhtunkhwa)</td>\n",
       "      <td>Industrial accident</td>\n",
       "      <td>Marble mine</td>\n",
       "      <td>NaN</td>\n",
       "      <td>2020-0443-PAK</td>\n",
       "    </tr>\n",
       "    <tr>\n",
       "      <th>446</th>\n",
       "      <td>Khyber Pakhtunkhwa</td>\n",
       "      <td>Flood</td>\n",
       "      <td>NaN</td>\n",
       "      <td>NaN</td>\n",
       "      <td>2020-0133-PAK</td>\n",
       "    </tr>\n",
       "    <tr>\n",
       "      <th>447</th>\n",
       "      <td>Bajaur, Buner districts (Khyber Pakhtunkhwa Pr...</td>\n",
       "      <td>Flood</td>\n",
       "      <td>NaN</td>\n",
       "      <td>NaN</td>\n",
       "      <td>2020-0249-PAK</td>\n",
       "    </tr>\n",
       "  </tbody>\n",
       "</table>\n",
       "<p>448 rows × 5 columns</p>\n",
       "</div>"
      ],
      "text/plain": [
       "                                              location        disaster_type  \\\n",
       "0                              Coast, Low Indus valley                Storm   \n",
       "1                                      Lahore district                Flood   \n",
       "2                                              Karachi                Storm   \n",
       "3                                         Karachi area                Flood   \n",
       "4                                      Multan District             Epidemic   \n",
       "..                                                 ...                  ...   \n",
       "443                              Near Dera Ismail Khan   Transport accident   \n",
       "444                   Sukkur district (Sindh province)   Transport accident   \n",
       "445                       Mohmand (Khyber-Pakhtunkhwa)  Industrial accident   \n",
       "446                                 Khyber Pakhtunkhwa                Flood   \n",
       "447  Bajaur, Buner districts (Khyber Pakhtunkhwa Pr...                Flood   \n",
       "\n",
       "      event_name  total_damages         dis_no  \n",
       "0            NaN         4100.0  1964-0034-PAK  \n",
       "1            NaN          500.0  1964-0056-PAK  \n",
       "2            NaN            NaN  1965-0069-PAK  \n",
       "3            NaN         2800.0  1967-0049-PAK  \n",
       "4        Cholera            NaN  1968-0037-PAK  \n",
       "..           ...            ...            ...  \n",
       "443          NaN            NaN  2020-0516-PAK  \n",
       "444          NaN            NaN  2020-0081-PAK  \n",
       "445  Marble mine            NaN  2020-0443-PAK  \n",
       "446          NaN            NaN  2020-0133-PAK  \n",
       "447          NaN            NaN  2020-0249-PAK  \n",
       "\n",
       "[448 rows x 5 columns]"
      ]
     },
     "execution_count": 6,
     "metadata": {},
     "output_type": "execute_result"
    }
   ],
   "source": [
    "df[['location','disaster_type','event_name','total_damages','dis_no']]"
   ]
  },
  {
   "cell_type": "code",
   "execution_count": 7,
   "metadata": {},
   "outputs": [
    {
     "data": {
      "text/plain": [
       "['Coast, Low Indus valley',\n",
       " 'Lahore district',\n",
       " 'Karachi',\n",
       " 'Karachi area',\n",
       " 'Multan District',\n",
       " 'Karachi',\n",
       " 'Tangir, Gupis, Rawalpindi, Peshawar',\n",
       " 'Punjab, Sind',\n",
       " 'North Indus R. Valley, Balakot, Patan',\n",
       " nan,\n",
       " nan,\n",
       " 'Punjab, Sind, North West Frontier',\n",
       " 'Karachi',\n",
       " nan,\n",
       " 'Sind, Punjab',\n",
       " 'Rawalpindi',\n",
       " nan,\n",
       " 'Northern',\n",
       " nan,\n",
       " 'Karakoram, Darel, Tangir, Khanbari valleys',\n",
       " 'Gujranwala, Sheikhupura districts',\n",
       " 'Koshkak',\n",
       " 'North regions',\n",
       " nan,\n",
       " nan,\n",
       " 'Pakistan/Afghanistan border, Hindu Kusk region',\n",
       " 'Phuban (Astor Valley)',\n",
       " 'Central and North regions',\n",
       " 'Punjab province',\n",
       " 'Chiltral-Landi Kotal (Hindu Kush)']"
      ]
     },
     "execution_count": 7,
     "metadata": {},
     "output_type": "execute_result"
    }
   ],
   "source": [
    "df.location.tolist()[:30]"
   ]
  },
  {
   "cell_type": "code",
   "execution_count": 8,
   "metadata": {},
   "outputs": [],
   "source": [
    "gadm1 = gpd.read_file(os.getenv('data')+'/GADM_PAK/gadm36_PAK_1.shp')\n",
    "gadm2 = gpd.read_file(os.getenv('data')+'/GADM_PAK/gadm36_PAK_2.shp')\n",
    "gadm3 = gpd.read_file(os.getenv('data')+'/GADM_PAK/gadm36_PAK_3.shp')"
   ]
  },
  {
   "cell_type": "code",
   "execution_count": 9,
   "metadata": {},
   "outputs": [
    {
     "data": {
      "image/png": "[encoded data removed]",
      "text/plain": [
       "<Figure size 1008x360 with 3 Axes>"
      ]
     },
     "metadata": {
      "needs_background": "light"
     },
     "output_type": "display_data"
    }
   ],
   "source": [
    "f,(ax1,ax2,ax3) = plt.subplots(ncols=3,figsize=[14,5])\n",
    "gadm1.plot(ax=ax1)\n",
    "gadm2.plot(ax=ax2)\n",
    "gadm3.plot(ax=ax3)\n",
    "plt.suptitle('Left to right: GADM 1 (comprises {} units), GADM 2 ({} units), GADM 3 ({} units)'.format(len(gadm1),\n",
    "                                                                                                len(gadm2),len(gadm3)));\n"
   ]
  },
  {
   "cell_type": "code",
   "execution_count": 10,
   "metadata": {},
   "outputs": [
    {
     "data": {
      "text/html": [
       "<div>\n",
       "<style scoped>\n",
       "    .dataframe tbody tr th:only-of-type {\n",
       "        vertical-align: middle;\n",
       "    }\n",
       "\n",
       "    .dataframe tbody tr th {\n",
       "        vertical-align: top;\n",
       "    }\n",
       "\n",
       "    .dataframe thead th {\n",
       "        text-align: right;\n",
       "    }\n",
       "</style>\n",
       "<table border=\"1\" class=\"dataframe\">\n",
       "  <thead>\n",
       "    <tr style=\"text-align: right;\">\n",
       "      <th></th>\n",
       "      <th>GID_0</th>\n",
       "      <th>NAME_0</th>\n",
       "      <th>GID_1</th>\n",
       "      <th>NAME_1</th>\n",
       "      <th>NL_NAME_1</th>\n",
       "      <th>GID_2</th>\n",
       "      <th>NAME_2</th>\n",
       "      <th>NL_NAME_2</th>\n",
       "      <th>GID_3</th>\n",
       "      <th>NAME_3</th>\n",
       "      <th>VARNAME_3</th>\n",
       "      <th>NL_NAME_3</th>\n",
       "      <th>TYPE_3</th>\n",
       "      <th>ENGTYPE_3</th>\n",
       "      <th>CC_3</th>\n",
       "      <th>HASC_3</th>\n",
       "      <th>geometry</th>\n",
       "    </tr>\n",
       "  </thead>\n",
       "  <tbody>\n",
       "    <tr>\n",
       "      <th>0</th>\n",
       "      <td>PAK</td>\n",
       "      <td>Pakistan</td>\n",
       "      <td>PAK.1_1</td>\n",
       "      <td>Azad Kashmir</td>\n",
       "      <td>None</td>\n",
       "      <td>PAK.1.1_1</td>\n",
       "      <td>Azad Kashmir</td>\n",
       "      <td>None</td>\n",
       "      <td>PAK.1.1.1_1</td>\n",
       "      <td>Bagh</td>\n",
       "      <td>None</td>\n",
       "      <td>None</td>\n",
       "      <td>District</td>\n",
       "      <td>District</td>\n",
       "      <td>None</td>\n",
       "      <td>None</td>\n",
       "      <td>POLYGON ((73.54095 33.90390, 73.54099 33.90691...</td>\n",
       "    </tr>\n",
       "    <tr>\n",
       "      <th>1</th>\n",
       "      <td>PAK</td>\n",
       "      <td>Pakistan</td>\n",
       "      <td>PAK.1_1</td>\n",
       "      <td>Azad Kashmir</td>\n",
       "      <td>None</td>\n",
       "      <td>PAK.1.1_1</td>\n",
       "      <td>Azad Kashmir</td>\n",
       "      <td>None</td>\n",
       "      <td>PAK.1.1.2_1</td>\n",
       "      <td>Bhimber</td>\n",
       "      <td>None</td>\n",
       "      <td>None</td>\n",
       "      <td>District</td>\n",
       "      <td>District</td>\n",
       "      <td>None</td>\n",
       "      <td>None</td>\n",
       "      <td>POLYGON ((74.39078 32.80176, 74.38804 32.80345...</td>\n",
       "    </tr>\n",
       "  </tbody>\n",
       "</table>\n",
       "</div>"
      ],
      "text/plain": [
       "  GID_0    NAME_0    GID_1        NAME_1 NL_NAME_1      GID_2        NAME_2  \\\n",
       "0   PAK  Pakistan  PAK.1_1  Azad Kashmir      None  PAK.1.1_1  Azad Kashmir   \n",
       "1   PAK  Pakistan  PAK.1_1  Azad Kashmir      None  PAK.1.1_1  Azad Kashmir   \n",
       "\n",
       "  NL_NAME_2        GID_3   NAME_3 VARNAME_3 NL_NAME_3    TYPE_3 ENGTYPE_3  \\\n",
       "0      None  PAK.1.1.1_1     Bagh      None      None  District  District   \n",
       "1      None  PAK.1.1.2_1  Bhimber      None      None  District  District   \n",
       "\n",
       "   CC_3 HASC_3                                           geometry  \n",
       "0  None   None  POLYGON ((73.54095 33.90390, 73.54099 33.90691...  \n",
       "1  None   None  POLYGON ((74.39078 32.80176, 74.38804 32.80345...  "
      ]
     },
     "execution_count": 10,
     "metadata": {},
     "output_type": "execute_result"
    }
   ],
   "source": [
    "gadm3.head(2)"
   ]
  },
  {
   "cell_type": "code",
   "execution_count": 11,
   "metadata": {},
   "outputs": [
    {
     "data": {
      "text/plain": [
       "array(['Azad Kashmir', 'Baluchistan', 'F.A.T.A.', 'F.C.T.', 'N.W.F.P.',\n",
       "       'Northern Areas', 'Punjab', 'Sind'], dtype=object)"
      ]
     },
     "execution_count": 11,
     "metadata": {},
     "output_type": "execute_result"
    }
   ],
   "source": [
    "gadm3.NAME_1.unique()"
   ]
  },
  {
   "cell_type": "code",
   "execution_count": 12,
   "metadata": {},
   "outputs": [
    {
     "data": {
      "text/plain": [
       "array(['Azad Kashmir', 'Kalat', 'Makran', 'Nasirabad', 'Quetta', 'Sibi',\n",
       "       'Zhob', 'F.A.T.A.', 'Islamabad', 'Bannu', 'Dera Ismail Khan',\n",
       "       'Hazara', 'Kohat', 'Malakand', 'Mardan', 'Peshawar',\n",
       "       'Northern Areas', 'Bahawalpur', 'Dera Ghazi Khan', 'Faisalabad',\n",
       "       'Gujranwala', 'Lahore', 'Multan', 'Rawalpindi', 'Sargodha',\n",
       "       'Hyderabad', 'Karachi', 'Larkana', 'Mirpur Khas', 'Rann of Kutch',\n",
       "       'Sukkur'], dtype=object)"
      ]
     },
     "execution_count": 12,
     "metadata": {},
     "output_type": "execute_result"
    }
   ],
   "source": [
    "gadm3.NAME_2.unique()"
   ]
  },
  {
   "cell_type": "code",
   "execution_count": 13,
   "metadata": {},
   "outputs": [
    {
     "data": {
      "text/plain": [
       "array(['Bagh', 'Bhimber', 'Kotli', 'Mirpur', 'Muzaffarabad', 'Neelum',\n",
       "       'Poonch', 'Sudhnati', 'Awaran', 'Disputed Area 1',\n",
       "       'Disputed Area 2', 'Kalat', 'Kharan', 'Khuzdar', 'Lasbela',\n",
       "       'Mastung', 'Gwadar', 'Kech', 'Panjgur', 'Bolan', 'Jafarabad',\n",
       "       'Jhal Magsi', 'Nasirabad', 'Chagai', 'Pishin', 'Qilla Abdullah',\n",
       "       'Quetta', 'Dera Bugti', 'Kholu', 'Sibi', 'Ziarat', 'Barkhan',\n",
       "       'Loralai', 'Musakhel', 'Qilla Saifullah', 'Zhob', 'Bajaur',\n",
       "       'Khyber', 'Kurram', 'Largha Shirani', 'Mohmand', 'N. Waziristan',\n",
       "       'Orakzai', 'S. Waziristan', 'Islamabad', 'Bannu', 'Lakki Marwat',\n",
       "       'Dera Ismail Khan', 'Tank', 'Adam Khel', 'Bhittani', 'Abbottabad',\n",
       "       'Battagram', 'Haripur', 'Kohistan', 'Mansehra', 'Hangu', 'Karak',\n",
       "       'Kohat', 'Chitral', 'Dir', 'Malakand P.A.', 'Shangla', 'Swat',\n",
       "       'Buner', 'Mardan', 'Swabi', 'Charsadda', 'Nowshera', 'Peshawar',\n",
       "       'Chilas', 'Gilgit', 'Gilgit (Tribal Territory)', 'Kargil',\n",
       "       'Kupwara (Gilgit Wazarat)', 'Ladakh (Leh)', 'Bahawalnagar',\n",
       "       'Bahawalpur', 'Rahimyar Khan', 'Dera Ghazi Kha', 'Layyah',\n",
       "       'Muzaffargarh', 'Rajan Pur', 'Faisalabad', 'Jhang',\n",
       "       'Toba Tek Singh', 'Gujarat', 'Gujranwala 1', 'Gujranwala 2',\n",
       "       'Gujrat', 'Hafizabad', 'Narowal 1', 'Narowal 2', 'Sialkot',\n",
       "       'Kasur', 'Lahore', 'Nankana Sahib', 'Okara', 'Okara 1',\n",
       "       'Sheikhupura', 'Khanewal', 'Lodhran', 'Multan', 'Pakpattan',\n",
       "       'Sahiwal', 'Vehari', 'Attok', 'Chakwal', 'Jhelum', 'Rawalpindi',\n",
       "       'Bhakkar', 'Khushab', 'Mianwali', 'Sargodha', 'Badin', 'Dadu',\n",
       "       'Hyderabad', 'Jamshoro', 'Matiari', 'Tando Allahyar',\n",
       "       'Tando M. Khan', 'Thatta', 'Karachi Central', 'Karachi East',\n",
       "       'Karachi South', 'Karachi west', 'Malir', 'Jakobabad', 'Kashmore',\n",
       "       'Larkana', 'Shikarpur', 'Mirphurkhas', 'Mithi', 'Sanghar',\n",
       "       'Umerkot', 'Rann of Kutch', 'Ghotki', 'Khairpur',\n",
       "       'Naushahro Firoz', 'Nawab Shah', 'Sukkur'], dtype=object)"
      ]
     },
     "execution_count": 13,
     "metadata": {},
     "output_type": "execute_result"
    }
   ],
   "source": [
    "gadm3.NAME_3.unique()"
   ]
  },
  {
   "cell_type": "code",
   "execution_count": 14,
   "metadata": {},
   "outputs": [],
   "source": [
    "# Basic matching"
   ]
  },
  {
   "cell_type": "code",
   "execution_count": 15,
   "metadata": {},
   "outputs": [
    {
     "data": {
      "text/plain": [
       "0                           [Coast,, Low, Indus, valley]\n",
       "1                                     [Lahore, district]\n",
       "2                                              [Karachi]\n",
       "3                                        [Karachi, area]\n",
       "4                                     [Multan, District]\n",
       "                             ...                        \n",
       "443                           [Near, Dera, Ismail, Khan]\n",
       "444                [Sukkur, district, (Sindh, province)]\n",
       "445                      [Mohmand, (Khyber-Pakhtunkhwa)]\n",
       "446                                [Khyber, Pakhtunkhwa]\n",
       "447    [Bajaur,, Buner, districts, (Khyber, Pakhtunkh...\n",
       "Name: location_list, Length: 448, dtype: object"
      ]
     },
     "execution_count": 15,
     "metadata": {},
     "output_type": "execute_result"
    }
   ],
   "source": [
    "df['location_list'] = df.location.str.split()\n",
    "df['location_list']"
   ]
  },
  {
   "cell_type": "code",
   "execution_count": 16,
   "metadata": {},
   "outputs": [
    {
     "data": {
      "text/plain": [
       "4"
      ]
     },
     "execution_count": 16,
     "metadata": {},
     "output_type": "execute_result"
    }
   ],
   "source": [
    "df.location.isin(gadm3.NAME_1.unique()).sum()"
   ]
  },
  {
   "cell_type": "code",
   "execution_count": 17,
   "metadata": {},
   "outputs": [
    {
     "data": {
      "text/plain": [
       "55"
      ]
     },
     "execution_count": 17,
     "metadata": {},
     "output_type": "execute_result"
    }
   ],
   "source": [
    "df.location.isin(gadm3.NAME_2.unique()).sum()"
   ]
  },
  {
   "cell_type": "code",
   "execution_count": 18,
   "metadata": {},
   "outputs": [
    {
     "data": {
      "text/plain": [
       "40"
      ]
     },
     "execution_count": 18,
     "metadata": {},
     "output_type": "execute_result"
    }
   ],
   "source": [
    "df.location.isin(gadm3.NAME_3.unique()).sum()   # direct matches at GADM3 level"
   ]
  },
  {
   "cell_type": "code",
   "execution_count": 19,
   "metadata": {},
   "outputs": [
    {
     "data": {
      "text/plain": [
       "15       Rawalpindi\n",
       "45       Bahawalpur\n",
       "54           Sukkur\n",
       "63       Abbottabad\n",
       "66           Lahore\n",
       "79           Ghotki\n",
       "80         Nowshera\n",
       "82           Quetta\n",
       "98           Lahore\n",
       "99        Hyderabad\n",
       "107          Lahore\n",
       "108          Multan\n",
       "111      Faisalabad\n",
       "115          Sukkur\n",
       "124            Swat\n",
       "128          Lahore\n",
       "129       Hyderabad\n",
       "139          Gilgit\n",
       "142       Hyderabad\n",
       "148      Rawalpindi\n",
       "154      Faisalabad\n",
       "155          Gilgit\n",
       "166           Kotli\n",
       "168          Lahore\n",
       "242          Lahore\n",
       "252          Lahore\n",
       "267          Lahore\n",
       "268          Lahore\n",
       "280          Multan\n",
       "301    Muzaffargarh\n",
       "302      Rawalpindi\n",
       "324       Hyderabad\n",
       "329          Mirpur\n",
       "342          Lahore\n",
       "343          Lahore\n",
       "360        Khairpur\n",
       "362          Lahore\n",
       "365          Lahore\n",
       "402          Lahore\n",
       "428      Rawalpindi\n",
       "Name: location, dtype: object"
      ]
     },
     "execution_count": 19,
     "metadata": {},
     "output_type": "execute_result"
    }
   ],
   "source": [
    "df.location[df.location.isin(gadm3.NAME_3.unique())]   # direct matches at GADM3 level"
   ]
  },
  {
   "cell_type": "code",
   "execution_count": 20,
   "metadata": {},
   "outputs": [],
   "source": [
    "# Fuzzy matching"
   ]
  },
  {
   "cell_type": "code",
   "execution_count": null,
   "metadata": {},
   "outputs": [],
   "source": [
    "import fuzzywuzzy as fw"
   ]
  },
  {
   "cell_type": "code",
   "execution_count": 21,
   "metadata": {},
   "outputs": [],
   "source": [
    "# OSM geocoder"
   ]
  },
  {
   "cell_type": "code",
   "execution_count": 104,
   "metadata": {},
   "outputs": [
    {
     "data": {
      "text/plain": [
       "{'accuracy': 0.49408524358740485,\n",
       " 'address': 'فیصل آباد, پنجاب, 38000, پاکستان',\n",
       " 'bbox': {'northeast': [31.5820558, 73.2523253],\n",
       "  'southwest': [31.2620558, 72.9323253]},\n",
       " 'city': 'فیصل آباد',\n",
       " 'confidence': 1,\n",
       " 'country': 'پاکستان',\n",
       " 'country_code': 'pk',\n",
       " 'icon': 'https://nominatim.openstreetmap.org/ui/mapicons//poi_place_city.p.20.png',\n",
       " 'importance': 0.49408524358740485,\n",
       " 'lat': 31.4220558,\n",
       " 'lng': 73.0923253,\n",
       " 'ok': True,\n",
       " 'osm_id': 1974766376,\n",
       " 'osm_type': 'node',\n",
       " 'place_id': 19148336,\n",
       " 'place_rank': 16,\n",
       " 'postal': '38000',\n",
       " 'quality': 'city',\n",
       " 'raw': {'place_id': 19148336,\n",
       "  'licence': 'Data © OpenStreetMap contributors, ODbL 1.0. https://osm.org/copyright',\n",
       "  'osm_type': 'node',\n",
       "  'osm_id': 1974766376,\n",
       "  'boundingbox': ['31.2620558', '31.5820558', '72.9323253', '73.2523253'],\n",
       "  'lat': '31.4220558',\n",
       "  'lon': '73.0923253',\n",
       "  'display_name': 'فیصل آباد, پنجاب, 38000, پاکستان',\n",
       "  'place_rank': 16,\n",
       "  'category': 'place',\n",
       "  'type': 'city',\n",
       "  'importance': 0.49408524358740485,\n",
       "  'icon': 'https://nominatim.openstreetmap.org/ui/mapicons//poi_place_city.p.20.png',\n",
       "  'address': {'city': 'فیصل آباد',\n",
       "   'state': 'پنجاب',\n",
       "   'postcode': '38000',\n",
       "   'country': 'پاکستان',\n",
       "   'country_code': 'pk'}},\n",
       " 'region': 'پنجاب',\n",
       " 'state': 'پنجاب',\n",
       " 'status': 'OK',\n",
       " 'type': 'city'}"
      ]
     },
     "execution_count": 104,
     "metadata": {},
     "output_type": "execute_result"
    }
   ],
   "source": [
    "g = geocoder.osm('Faisalabad, Pakistan')\n",
    "g.json"
   ]
  },
  {
   "cell_type": "code",
   "execution_count": 28,
   "metadata": {},
   "outputs": [],
   "source": [
    "def get_accuracy(location):\n",
    "    try:\n",
    "        g = geocoder.osm(location)\n",
    "        return(g.json['accuracy'])\n",
    "    except:\n",
    "        return(0)"
   ]
  },
  {
   "cell_type": "code",
   "execution_count": 29,
   "metadata": {},
   "outputs": [],
   "source": [
    "df=df[:100]"
   ]
  },
  {
   "cell_type": "code",
   "execution_count": 30,
   "metadata": {},
   "outputs": [],
   "source": [
    "acc = [get_accuracy(location) for location in df.location]"
   ]
  },
  {
   "cell_type": "code",
   "execution_count": 31,
   "metadata": {},
   "outputs": [],
   "source": [
    "df['geocode_accuracy'] = acc"
   ]
  },
  {
   "cell_type": "code",
   "execution_count": 32,
   "metadata": {},
   "outputs": [
    {
     "data": {
      "text/html": [
       "<div>\n",
       "<style scoped>\n",
       "    .dataframe tbody tr th:only-of-type {\n",
       "        vertical-align: middle;\n",
       "    }\n",
       "\n",
       "    .dataframe tbody tr th {\n",
       "        vertical-align: top;\n",
       "    }\n",
       "\n",
       "    .dataframe thead th {\n",
       "        text-align: right;\n",
       "    }\n",
       "</style>\n",
       "<table border=\"1\" class=\"dataframe\">\n",
       "  <thead>\n",
       "    <tr style=\"text-align: right;\">\n",
       "      <th></th>\n",
       "      <th>location</th>\n",
       "      <th>geocode_accuracy</th>\n",
       "    </tr>\n",
       "  </thead>\n",
       "  <tbody>\n",
       "    <tr>\n",
       "      <th>0</th>\n",
       "      <td>Coast, Low Indus valley</td>\n",
       "      <td>0.000000</td>\n",
       "    </tr>\n",
       "    <tr>\n",
       "      <th>1</th>\n",
       "      <td>Lahore district</td>\n",
       "      <td>0.650000</td>\n",
       "    </tr>\n",
       "    <tr>\n",
       "      <th>2</th>\n",
       "      <td>Karachi</td>\n",
       "      <td>0.350000</td>\n",
       "    </tr>\n",
       "    <tr>\n",
       "      <th>3</th>\n",
       "      <td>Karachi area</td>\n",
       "      <td>0.111000</td>\n",
       "    </tr>\n",
       "    <tr>\n",
       "      <th>4</th>\n",
       "      <td>Multan District</td>\n",
       "      <td>0.550000</td>\n",
       "    </tr>\n",
       "    <tr>\n",
       "      <th>...</th>\n",
       "      <td>...</td>\n",
       "      <td>...</td>\n",
       "    </tr>\n",
       "    <tr>\n",
       "      <th>95</th>\n",
       "      <td>NaN</td>\n",
       "      <td>0.593636</td>\n",
       "    </tr>\n",
       "    <tr>\n",
       "      <th>96</th>\n",
       "      <td>Cachemire</td>\n",
       "      <td>0.111000</td>\n",
       "    </tr>\n",
       "    <tr>\n",
       "      <th>97</th>\n",
       "      <td>Jang Shahi (Karachi)</td>\n",
       "      <td>0.000000</td>\n",
       "    </tr>\n",
       "    <tr>\n",
       "      <th>98</th>\n",
       "      <td>Lahore</td>\n",
       "      <td>0.603604</td>\n",
       "    </tr>\n",
       "    <tr>\n",
       "      <th>99</th>\n",
       "      <td>Hyderabad</td>\n",
       "      <td>0.475782</td>\n",
       "    </tr>\n",
       "  </tbody>\n",
       "</table>\n",
       "<p>100 rows × 2 columns</p>\n",
       "</div>"
      ],
      "text/plain": [
       "                   location  geocode_accuracy\n",
       "0   Coast, Low Indus valley          0.000000\n",
       "1           Lahore district          0.650000\n",
       "2                   Karachi          0.350000\n",
       "3              Karachi area          0.111000\n",
       "4           Multan District          0.550000\n",
       "..                      ...               ...\n",
       "95                      NaN          0.593636\n",
       "96                Cachemire          0.111000\n",
       "97     Jang Shahi (Karachi)          0.000000\n",
       "98                   Lahore          0.603604\n",
       "99                Hyderabad          0.475782\n",
       "\n",
       "[100 rows x 2 columns]"
      ]
     },
     "execution_count": 32,
     "metadata": {},
     "output_type": "execute_result"
    }
   ],
   "source": [
    "df[['location', 'geocode_accuracy']]"
   ]
  },
  {
   "cell_type": "code",
   "execution_count": 33,
   "metadata": {},
   "outputs": [
    {
     "data": {
      "image/png": "[encoded data removed]",
      "text/plain": [
       "<Figure size 432x288 with 1 Axes>"
      ]
     },
     "metadata": {
      "needs_background": "light"
     },
     "output_type": "display_data"
    }
   ],
   "source": [
    "df.geocode_accuracy.hist()\n",
    "plt.title('Histogram of geocode accuracy for 100 EMDAT locations (0 = zero confidence, 1 = full confidence)');"
   ]
  },
  {
   "cell_type": "code",
   "execution_count": 34,
   "metadata": {},
   "outputs": [],
   "source": [
    "# with GeoNames"
   ]
  },
  {
   "cell_type": "code",
   "execution_count": 88,
   "metadata": {},
   "outputs": [
    {
     "data": {
      "text/plain": [
       "0                        Coast, Low Indus valley\n",
       "1                                Lahore district\n",
       "2                                        Karachi\n",
       "3                                   Karachi area\n",
       "4                                Multan District\n",
       "5                                        Karachi\n",
       "6            Tangir, Gupis, Rawalpindi, Peshawar\n",
       "7                                   Punjab, Sind\n",
       "8          North Indus R. Valley, Balakot, Patan\n",
       "9                                            NaN\n",
       "10                                           NaN\n",
       "11             Punjab, Sind, North West Frontier\n",
       "12                                       Karachi\n",
       "13                                           NaN\n",
       "14                                  Sind, Punjab\n",
       "15                                    Rawalpindi\n",
       "16                                           NaN\n",
       "17                                      Northern\n",
       "18                                           NaN\n",
       "19    Karakoram, Darel, Tangir, Khanbari valleys\n",
       "Name: location, dtype: object"
      ]
     },
     "execution_count": 88,
     "metadata": {},
     "output_type": "execute_result"
    }
   ],
   "source": [
    "df.location[:20]"
   ]
  },
  {
   "cell_type": "code",
   "execution_count": 95,
   "metadata": {},
   "outputs": [],
   "source": [
    "g = geocoder.geonames('Karakoram, Pakistan',key='nkwj2')"
   ]
  },
  {
   "cell_type": "code",
   "execution_count": 96,
   "metadata": {},
   "outputs": [
    {
     "data": {
      "text/plain": [
       "'Great Karakoram'"
      ]
     },
     "execution_count": 96,
     "metadata": {},
     "output_type": "execute_result"
    }
   ],
   "source": [
    "g.address"
   ]
  },
  {
   "cell_type": "code",
   "execution_count": 97,
   "metadata": {},
   "outputs": [
    {
     "data": {
      "text/plain": [
       "'mountains'"
      ]
     },
     "execution_count": 97,
     "metadata": {},
     "output_type": "execute_result"
    }
   ],
   "source": [
    "g.description"
   ]
  },
  {
   "cell_type": "code",
   "execution_count": 98,
   "metadata": {},
   "outputs": [
    {
     "data": {
      "text/plain": [
       "'T'"
      ]
     },
     "execution_count": 98,
     "metadata": {},
     "output_type": "execute_result"
    }
   ],
   "source": [
    "g.feature_class"
   ]
  },
  {
   "cell_type": "code",
   "execution_count": 99,
   "metadata": {},
   "outputs": [
    {
     "data": {
      "text/plain": [
       "'Gilgit-Baltistan'"
      ]
     },
     "execution_count": 99,
     "metadata": {},
     "output_type": "execute_result"
    }
   ],
   "source": [
    "g.state"
   ]
  },
  {
   "cell_type": "code",
   "execution_count": 100,
   "metadata": {},
   "outputs": [
    {
     "data": {
      "text/plain": [
       "{'type': 'FeatureCollection',\n",
       " 'features': [{'type': 'Feature',\n",
       "   'properties': {'address': 'Great Karakoram',\n",
       "    'class_description': 'mountain,hill,rock,... ',\n",
       "    'code': 'MTS',\n",
       "    'country': 'Pakistan',\n",
       "    'country_code': 'PK',\n",
       "    'description': 'mountains',\n",
       "    'feature_class': 'T',\n",
       "    'geonames_id': 7449791,\n",
       "    'lat': '36.19155',\n",
       "    'lng': '75.47171',\n",
       "    'ok': True,\n",
       "    'raw': {'adminCode1': '07',\n",
       "     'lng': '75.47171',\n",
       "     'geonameId': 7449791,\n",
       "     'toponymName': 'Great Karakoram',\n",
       "     'countryId': '1168579',\n",
       "     'fcl': 'T',\n",
       "     'population': 0,\n",
       "     'countryCode': 'PK',\n",
       "     'name': 'Great Karakoram',\n",
       "     'fclName': 'mountain,hill,rock,... ',\n",
       "     'adminCodes1': {'ISO3166_2': 'GB'},\n",
       "     'countryName': 'Pakistan',\n",
       "     'fcodeName': 'mountains',\n",
       "     'adminName1': 'Gilgit-Baltistan',\n",
       "     'lat': '36.19155',\n",
       "     'fcode': 'MTS'},\n",
       "    'state': 'Gilgit-Baltistan',\n",
       "    'state_code': '07',\n",
       "    'status': 'OK'},\n",
       "   'geometry': {'type': 'Point', 'coordinates': ['75.47171', '36.19155']}}]}"
      ]
     },
     "execution_count": 100,
     "metadata": {},
     "output_type": "execute_result"
    }
   ],
   "source": [
    "g.geojson"
   ]
  },
  {
   "cell_type": "code",
   "execution_count": 51,
   "metadata": {},
   "outputs": [],
   "source": [
    "g1 = geocoder.geonames('Lahore district',key='nkwj2')"
   ]
  },
  {
   "cell_type": "code",
   "execution_count": 52,
   "metadata": {},
   "outputs": [
    {
     "data": {
      "text/plain": [
       "'Lahore'"
      ]
     },
     "execution_count": 52,
     "metadata": {},
     "output_type": "execute_result"
    }
   ],
   "source": [
    "g1.address"
   ]
  },
  {
   "cell_type": "code",
   "execution_count": 53,
   "metadata": {},
   "outputs": [
    {
     "data": {
      "text/plain": [
       "'seat of a first-order administrative division'"
      ]
     },
     "execution_count": 53,
     "metadata": {},
     "output_type": "execute_result"
    }
   ],
   "source": [
    "g1.description"
   ]
  },
  {
   "cell_type": "code",
   "execution_count": 65,
   "metadata": {},
   "outputs": [
    {
     "data": {
      "text/plain": [
       "'P'"
      ]
     },
     "execution_count": 65,
     "metadata": {},
     "output_type": "execute_result"
    }
   ],
   "source": [
    "g.feature_class"
   ]
  },
  {
   "cell_type": "code",
   "execution_count": 55,
   "metadata": {},
   "outputs": [
    {
     "data": {
      "text/plain": [
       "'Punjab'"
      ]
     },
     "execution_count": 55,
     "metadata": {},
     "output_type": "execute_result"
    }
   ],
   "source": [
    "g.state"
   ]
  },
  {
   "cell_type": "code",
   "execution_count": 68,
   "metadata": {},
   "outputs": [
    {
     "data": {
      "text/plain": [
       "{'type': 'FeatureCollection',\n",
       " 'features': [{'type': 'Feature',\n",
       "   'properties': {'address': 'Lahore',\n",
       "    'class_description': 'city, village,...',\n",
       "    'code': 'PPLA',\n",
       "    'country': 'Pakistan',\n",
       "    'country_code': 'PK',\n",
       "    'description': 'seat of a first-order administrative division',\n",
       "    'feature_class': 'P',\n",
       "    'geonames_id': 1172451,\n",
       "    'lat': '31.558',\n",
       "    'lng': '74.35071',\n",
       "    'ok': True,\n",
       "    'population': 6310888,\n",
       "    'raw': {'adminCode1': '04',\n",
       "     'lng': '74.35071',\n",
       "     'geonameId': 1172451,\n",
       "     'toponymName': 'Lahore',\n",
       "     'countryId': '1168579',\n",
       "     'fcl': 'P',\n",
       "     'population': 6310888,\n",
       "     'countryCode': 'PK',\n",
       "     'name': 'Lahore',\n",
       "     'fclName': 'city, village,...',\n",
       "     'adminCodes1': {'ISO3166_2': 'PB'},\n",
       "     'countryName': 'Pakistan',\n",
       "     'fcodeName': 'seat of a first-order administrative division',\n",
       "     'adminName1': 'Punjab',\n",
       "     'lat': '31.558',\n",
       "     'fcode': 'PPLA'},\n",
       "    'state': 'Punjab',\n",
       "    'state_code': '04',\n",
       "    'status': 'OK'},\n",
       "   'geometry': {'type': 'Point', 'coordinates': ['74.35071', '31.558']}}]}"
      ]
     },
     "execution_count": 68,
     "metadata": {},
     "output_type": "execute_result"
    }
   ],
   "source": [
    "g.geojson"
   ]
  },
  {
   "cell_type": "code",
   "execution_count": 60,
   "metadata": {},
   "outputs": [
    {
     "name": "stdout",
     "output_type": "stream",
     "text": [
      "Lahore seat of a first-order administrative division P Punjab\n"
     ]
    }
   ],
   "source": [
    "g2 = geocoder.geonames('Lahore district',key='nkwj2')\n",
    "print(g2.address,g2.description,g2.feature_class,g2.state)"
   ]
  },
  {
   "cell_type": "code",
   "execution_count": 63,
   "metadata": {},
   "outputs": [
    {
     "data": {
      "text/plain": [
       "{'type': 'FeatureCollection',\n",
       " 'features': [{'type': 'Feature',\n",
       "   'properties': {'address': 'Earth',\n",
       "    'class_description': 'parks,area, ...',\n",
       "    'code': 'AREA',\n",
       "    'description': 'area',\n",
       "    'feature_class': 'L',\n",
       "    'geonames_id': 6295630,\n",
       "    'lat': '0',\n",
       "    'lng': '0',\n",
       "    'ok': True,\n",
       "    'population': 6814400000,\n",
       "    'raw': {'lng': '0',\n",
       "     'geonameId': 6295630,\n",
       "     'name': 'Earth',\n",
       "     'fclName': 'parks,area, ...',\n",
       "     'toponymName': 'Earth',\n",
       "     'fcodeName': 'area',\n",
       "     'adminName1': '',\n",
       "     'lat': '0',\n",
       "     'fcl': 'L',\n",
       "     'fcode': 'AREA',\n",
       "     'population': 6814400000},\n",
       "    'status': 'OK'},\n",
       "   'geometry': {'type': 'Point', 'coordinates': ['0', '0']}},\n",
       "  {'type': 'Feature',\n",
       "   'properties': {'address': 'Asia',\n",
       "    'class_description': 'parks,area, ...',\n",
       "    'code': 'CONT',\n",
       "    'description': 'continent',\n",
       "    'feature_class': 'L',\n",
       "    'geonames_id': 6255147,\n",
       "    'lat': '29.84064',\n",
       "    'lng': '89.29688',\n",
       "    'ok': True,\n",
       "    'population': 3812366000,\n",
       "    'raw': {'lng': '89.29688',\n",
       "     'geonameId': 6255147,\n",
       "     'name': 'Asia',\n",
       "     'fclName': 'parks,area, ...',\n",
       "     'toponymName': 'Asia',\n",
       "     'fcodeName': 'continent',\n",
       "     'adminName1': '',\n",
       "     'lat': '29.84064',\n",
       "     'fcl': 'L',\n",
       "     'fcode': 'CONT',\n",
       "     'population': 3812366000},\n",
       "    'status': 'OK'},\n",
       "   'geometry': {'type': 'Point', 'coordinates': ['89.29688', '29.84064']}},\n",
       "  {'type': 'Feature',\n",
       "   'properties': {'address': 'Pakistan',\n",
       "    'class_description': 'country, state, region,...',\n",
       "    'code': 'PCLI',\n",
       "    'country': 'Pakistan',\n",
       "    'country_code': 'PK',\n",
       "    'description': 'independent political entity',\n",
       "    'feature_class': 'A',\n",
       "    'geonames_id': 1168579,\n",
       "    'lat': '30',\n",
       "    'lng': '70',\n",
       "    'ok': True,\n",
       "    'population': 212215030,\n",
       "    'raw': {'adminCode1': '00',\n",
       "     'lng': '70',\n",
       "     'geonameId': 1168579,\n",
       "     'toponymName': 'Islamic Republic of Pakistan',\n",
       "     'countryId': '1168579',\n",
       "     'fcl': 'A',\n",
       "     'population': 212215030,\n",
       "     'countryCode': 'PK',\n",
       "     'name': 'Pakistan',\n",
       "     'fclName': 'country, state, region,...',\n",
       "     'countryName': 'Pakistan',\n",
       "     'fcodeName': 'independent political entity',\n",
       "     'adminName1': '',\n",
       "     'lat': '30',\n",
       "     'fcode': 'PCLI'},\n",
       "    'state_code': '00',\n",
       "    'status': 'OK'},\n",
       "   'geometry': {'type': 'Point', 'coordinates': ['70', '30']}},\n",
       "  {'type': 'Feature',\n",
       "   'properties': {'address': 'Punjab',\n",
       "    'class_description': 'country, state, region,...',\n",
       "    'code': 'ADM1',\n",
       "    'country': 'Pakistan',\n",
       "    'country_code': 'PK',\n",
       "    'description': 'first-order administrative division',\n",
       "    'feature_class': 'A',\n",
       "    'geonames_id': 1167710,\n",
       "    'lat': '30.85',\n",
       "    'lng': '72.31667',\n",
       "    'ok': True,\n",
       "    'population': 85579866,\n",
       "    'raw': {'adminCode1': '04',\n",
       "     'lng': '72.31667',\n",
       "     'geonameId': 1167710,\n",
       "     'toponymName': 'Punjab Province',\n",
       "     'countryId': '1168579',\n",
       "     'fcl': 'A',\n",
       "     'population': 85579866,\n",
       "     'countryCode': 'PK',\n",
       "     'name': 'Punjab',\n",
       "     'fclName': 'country, state, region,...',\n",
       "     'adminCodes1': {'ISO3166_2': 'PB'},\n",
       "     'countryName': 'Pakistan',\n",
       "     'fcodeName': 'first-order administrative division',\n",
       "     'adminName1': 'Punjab',\n",
       "     'lat': '30.85',\n",
       "     'fcode': 'ADM1'},\n",
       "    'state': 'Punjab',\n",
       "    'state_code': '04',\n",
       "    'status': 'OK'},\n",
       "   'geometry': {'type': 'Point', 'coordinates': ['72.31667', '30.85']}},\n",
       "  {'type': 'Feature',\n",
       "   'properties': {'address': 'Lahore District',\n",
       "    'class_description': 'country, state, region,...',\n",
       "    'code': 'ADM2',\n",
       "    'country': 'Pakistan',\n",
       "    'country_code': 'PK',\n",
       "    'description': 'second-order administrative division',\n",
       "    'feature_class': 'A',\n",
       "    'geonames_id': 1172449,\n",
       "    'lat': '31.48627',\n",
       "    'lng': '74.3979',\n",
       "    'ok': True,\n",
       "    'raw': {'adminCode1': '04',\n",
       "     'lng': '74.3979',\n",
       "     'geonameId': 1172449,\n",
       "     'toponymName': 'Lahore District',\n",
       "     'countryId': '1168579',\n",
       "     'fcl': 'A',\n",
       "     'population': 0,\n",
       "     'countryCode': 'PK',\n",
       "     'name': 'Lahore District',\n",
       "     'fclName': 'country, state, region,...',\n",
       "     'adminCodes1': {'ISO3166_2': 'PB'},\n",
       "     'countryName': 'Pakistan',\n",
       "     'fcodeName': 'second-order administrative division',\n",
       "     'adminName1': 'Punjab',\n",
       "     'lat': '31.48627',\n",
       "     'fcode': 'ADM2'},\n",
       "    'state': 'Punjab',\n",
       "    'state_code': '04',\n",
       "    'status': 'OK'},\n",
       "   'geometry': {'type': 'Point', 'coordinates': ['74.3979', '31.48627']}},\n",
       "  {'type': 'Feature',\n",
       "   'properties': {'address': 'Lahore',\n",
       "    'class_description': 'city, village,...',\n",
       "    'code': 'PPLA',\n",
       "    'country': 'Pakistan',\n",
       "    'country_code': 'PK',\n",
       "    'description': 'seat of a first-order administrative division',\n",
       "    'feature_class': 'P',\n",
       "    'geonames_id': 1172451,\n",
       "    'lat': '31.558',\n",
       "    'lng': '74.35071',\n",
       "    'ok': True,\n",
       "    'population': 6310888,\n",
       "    'raw': {'adminCode1': '04',\n",
       "     'lng': '74.35071',\n",
       "     'geonameId': 1172451,\n",
       "     'toponymName': 'Lahore',\n",
       "     'countryId': '1168579',\n",
       "     'fcl': 'P',\n",
       "     'population': 6310888,\n",
       "     'countryCode': 'PK',\n",
       "     'name': 'Lahore',\n",
       "     'fclName': 'city, village,...',\n",
       "     'adminCodes1': {'ISO3166_2': 'PB'},\n",
       "     'countryName': 'Pakistan',\n",
       "     'fcodeName': 'seat of a first-order administrative division',\n",
       "     'adminName1': 'Punjab',\n",
       "     'lat': '31.558',\n",
       "     'fcode': 'PPLA'},\n",
       "    'state': 'Punjab',\n",
       "    'state_code': '04',\n",
       "    'status': 'OK'},\n",
       "   'geometry': {'type': 'Point', 'coordinates': ['74.35071', '31.558']}}]}"
      ]
     },
     "execution_count": 63,
     "metadata": {},
     "output_type": "execute_result"
    }
   ],
   "source": [
    "h = geocoder.geonames(g2.geonames_id, key='nkwj2', method='hierarchy')\n",
    "h.geojson"
   ]
  },
  {
   "cell_type": "code",
   "execution_count": null,
   "metadata": {},
   "outputs": [],
   "source": []
  }
 ],
 "metadata": {
  "kernelspec": {
   "display_name": "GPD3",
   "language": "python",
   "name": "gpd3"
  },
  "language_info": {
   "codemirror_mode": {
    "name": "ipython",
    "version": 3
   },
   "file_extension": ".py",
   "mimetype": "text/x-python",
   "name": "python",
   "nbconvert_exporter": "python",
   "pygments_lexer": "ipython3",
   "version": "3.7.7"
  }
 },
 "nbformat": 4,
 "nbformat_minor": 4
}
